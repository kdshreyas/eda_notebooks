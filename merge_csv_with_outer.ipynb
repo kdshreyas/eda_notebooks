{
 "cells": [
  {
   "cell_type": "code",
   "execution_count": 1,
   "id": "ad3b7307-65bf-412f-a162-f927f84d4627",
   "metadata": {},
   "outputs": [
    {
     "name": "stdout",
     "output_type": "stream",
     "text": [
      "reading file from  left_outer_merge/merged_TYFCB_Referrals_Membership_Records_Categories.csv\n",
      "reading file from  Dataset/Membership_PALMS.csv\n",
      "merging files\n",
      "left join on df2\n",
      "Saved!!\n"
     ]
    },
    {
     "data": {
      "text/plain": [
       "'left_outer_merge/merged_TYFCB_Referrals_Membership_Records_Categories_Membership_PALMS.csv'"
      ]
     },
     "execution_count": 1,
     "metadata": {},
     "output_type": "execute_result"
    }
   ],
   "source": [
    "import pandas as pd\n",
    "import os\n",
    "\n",
    "def get_common_columns(df1, df2):\n",
    "    common_columns = set(df1.columns.to_list()).intersection(df2.columns.to_list())\n",
    "    return list(common_columns)\n",
    "\n",
    "def get_non_common_columns(df1, df2):\n",
    "    columns_df1 = set(df1.columns.to_list())\n",
    "    columns_df2 = set(df2.columns.to_list())\n",
    "    non_common_columns = columns_df1.symmetric_difference(columns_df2)\n",
    "    return list(non_common_columns)\n",
    "\n",
    "def merge_csv_based_on_shape(df1, df2):\n",
    "    common_columns = get_common_columns(df1, df2)\n",
    "    if df1.shape[0] > df2.shape[0]:\n",
    "        print('left join on df1')\n",
    "        merged_df = df1.merge(df2, on= common_columns, how='left')\n",
    "    else:\n",
    "        print('left join on df2')\n",
    "        merged_df = df2.merge(df1, on= common_columns, how='left')\n",
    "    return merged_df\n",
    "\n",
    "def read_csv_merge_save(path1, path2, output_name):\n",
    "    print('reading file from ', path1)\n",
    "    df1 = pd.read_csv(path1)\n",
    "    print('reading file from ', path2)\n",
    "    df2 = pd.read_csv(path2)\n",
    "    print('merging files')\n",
    "    merged_df = merge_csv_based_on_shape(df1, df2)\n",
    "    print('saving to csv')\n",
    "    merged_df.to_csv(output_name, index = False)\n",
    "    print('Saved!!')\n",
    "    return output_name\n",
    "\n",
    "path1 = 'left_outer_merge/merged_TYFCB_Referrals_Membership_Records_Categories.csv'\n",
    "path2 = 'Dataset/Membership_PALMS.csv'\n",
    "output_name = 'left_outer_merge/merged_TYFCB_Referrals_Membership_Records_Categories_Membership_PALMS.csv'\n",
    "\n",
    "read_csv_merge_save(path1, path2, output_name)"
   ]
  },
  {
   "cell_type": "code",
   "execution_count": null,
   "id": "a8921d69-a086-489a-a56b-ff75a540a211",
   "metadata": {},
   "outputs": [],
   "source": []
  },
  {
   "cell_type": "code",
   "execution_count": null,
   "id": "179e1e08-4cc0-4a2f-a680-e212043ddec5",
   "metadata": {},
   "outputs": [],
   "source": []
  },
  {
   "cell_type": "code",
   "execution_count": null,
   "id": "4aad1e31-1abc-4f47-af9b-2e67223ec5b5",
   "metadata": {},
   "outputs": [],
   "source": []
  },
  {
   "cell_type": "code",
   "execution_count": 4,
   "id": "56be4f1e-231d-4320-bb9a-45652e610537",
   "metadata": {},
   "outputs": [],
   "source": [
    "# merging TYFCB and Referrals\n",
    "\n",
    "df_TYFCB = pd.read_csv(r'Dataset/done/TYFCB.csv')\n",
    "df_Referrals = pd.read_csv(r'Dataset/done/Referrals.csv')"
   ]
  },
  {
   "cell_type": "code",
   "execution_count": 9,
   "id": "6d427aca-09dc-4303-90a4-b8003b553e44",
   "metadata": {},
   "outputs": [
    {
     "name": "stdout",
     "output_type": "stream",
     "text": [
      "left join on df2\n"
     ]
    }
   ],
   "source": [
    "merged_TYFCB_Referrals = merge_csv_based_on_shape(df_TYFCB, df_Referrals)"
   ]
  },
  {
   "cell_type": "code",
   "execution_count": 16,
   "id": "5d6f25c6-5667-4150-af22-184b7334b685",
   "metadata": {},
   "outputs": [],
   "source": [
    "merged_TYFCB_Referrals.to_csv('merged_TYFCB_Referrals.csv', index = False)"
   ]
  },
  {
   "cell_type": "markdown",
   "id": "91c09bc5-b6b5-41cc-a6b8-86bdaf52a8b2",
   "metadata": {},
   "source": [
    ">>> TYFCB >> referral >> Membership_Records \n",
    ">>> categories (no common column based on secondary_cat_id renamed id_secondary_category) \n",
    ">>> Membership_PALMS"
   ]
  },
  {
   "cell_type": "code",
   "execution_count": 18,
   "id": "d662d1d4-dbee-4407-8b9f-22ab679113b6",
   "metadata": {},
   "outputs": [],
   "source": [
    "path1 = 'Dataset/done/TYFCB.csv'"
   ]
  },
  {
   "cell_type": "code",
   "execution_count": null,
   "id": "72ab9101-525e-4ad2-8e72-3ad55fc39f94",
   "metadata": {},
   "outputs": [],
   "source": [
    "left_outer_merge/merged_TYFCB_Referrals.csv"
   ]
  },
  {
   "cell_type": "code",
   "execution_count": 3,
   "id": "0b858472-8337-4c0d-a5fa-2deb33338228",
   "metadata": {},
   "outputs": [
    {
     "name": "stdout",
     "output_type": "stream",
     "text": [
      "reading file from  left_outer_merge/merged_TYFCB_Referrals.csv\n",
      "reading file from  Dataset/done/Membership_Records.csv\n",
      "merging files\n",
      "left join on df1\n",
      "saving to csv\n",
      "CPU times: total: 4min 57s\n",
      "Wall time: 6min 4s\n"
     ]
    },
    {
     "data": {
      "text/plain": [
       "'left_outer_merge/merged_TYFCB_Referrals_Membership_Records.csv'"
      ]
     },
     "execution_count": 3,
     "metadata": {},
     "output_type": "execute_result"
    }
   ],
   "source": [
    "%%time\n",
    "path1 = 'left_outer_merge/merged_TYFCB_Referrals.csv'\n",
    "path2 = 'Dataset/done/Membership_Records.csv'\n",
    "output_name = 'left_outer_merge/merged_TYFCB_Referrals_Membership_Records.csv'\n",
    "\n",
    "read_csv_merge_save(path1, path2, output_name)"
   ]
  },
  {
   "cell_type": "code",
   "execution_count": 2,
   "id": "febfcf9d-d3d5-469f-890a-08cfb9676881",
   "metadata": {},
   "outputs": [
    {
     "name": "stdout",
     "output_type": "stream",
     "text": [
      "reading file from  left_outer_merge/merged_TYFCB_Referrals_Membership_Records.csv\n",
      "reading file from  Dataset/done/Categories.csv\n",
      "merging files\n",
      "left join on df1\n",
      "saving to csv\n",
      "Saved!!\n",
      "CPU times: total: 2min 36s\n",
      "Wall time: 3min 11s\n"
     ]
    },
    {
     "data": {
      "text/plain": [
       "'left_outer_merge/merged_TYFCB_Referrals_Membership_Records_Categories.csv'"
      ]
     },
     "execution_count": 2,
     "metadata": {},
     "output_type": "execute_result"
    }
   ],
   "source": [
    "%%time\n",
    "path1 = 'left_outer_merge/merged_TYFCB_Referrals_Membership_Records.csv'\n",
    "path2 = 'Dataset/done/Categories.csv'\n",
    "output_name = 'left_outer_merge/merged_TYFCB_Referrals_Membership_Records_Categories.csv'\n",
    "\n",
    "read_csv_merge_save(path1, path2, output_name)"
   ]
  },
  {
   "cell_type": "code",
   "execution_count": 7,
   "id": "803faf37-0400-4e28-9e59-59bdeb2e81c2",
   "metadata": {},
   "outputs": [],
   "source": [
    "check_cat = pd.read_csv('left_outer_merge/merged_TYFCB_Referrals_Membership_Records_Categories.csv', nrows = 10000)"
   ]
  },
  {
   "cell_type": "code",
   "execution_count": null,
   "id": "0916264c-6069-4952-b169-58bd5d14482f",
   "metadata": {},
   "outputs": [],
   "source": [
    "check_cat.info()"
   ]
  },
  {
   "cell_type": "code",
   "execution_count": 6,
   "id": "67fb3560-009f-44e2-8f33-cc3544b34441",
   "metadata": {},
   "outputs": [
    {
     "name": "stdout",
     "output_type": "stream",
     "text": [
      "reading file from left_outer_merge/merged_TYFCB_Referrals_Membership_Records_Categories.csv\n",
      "reading file from Dataset/Membership_PALMS.csv\n",
      "merging files\n"
     ]
    },
    {
     "ename": "TypeError",
     "evalue": "Truth of Delayed objects is not supported",
     "output_type": "error",
     "traceback": [
      "\u001b[1;31m---------------------------------------------------------------------------\u001b[0m",
      "\u001b[1;31mTypeError\u001b[0m                                 Traceback (most recent call last)",
      "File \u001b[1;32m<timed exec>:5\u001b[0m\n",
      "Cell \u001b[1;32mIn[5], line 31\u001b[0m, in \u001b[0;36mread_csv_merge_save\u001b[1;34m(path1, path2, output_name)\u001b[0m\n\u001b[0;32m     29\u001b[0m df2 \u001b[38;5;241m=\u001b[39m dd\u001b[38;5;241m.\u001b[39mread_csv(path2)\n\u001b[0;32m     30\u001b[0m \u001b[38;5;28mprint\u001b[39m(\u001b[38;5;124m'\u001b[39m\u001b[38;5;124mmerging files\u001b[39m\u001b[38;5;124m'\u001b[39m)\n\u001b[1;32m---> 31\u001b[0m merged_df \u001b[38;5;241m=\u001b[39m \u001b[43mmerge_csv_based_on_shape\u001b[49m\u001b[43m(\u001b[49m\u001b[43mdf1\u001b[49m\u001b[43m,\u001b[49m\u001b[43m \u001b[49m\u001b[43mdf2\u001b[49m\u001b[43m)\u001b[49m\n\u001b[0;32m     32\u001b[0m \u001b[38;5;28mprint\u001b[39m(\u001b[38;5;124m'\u001b[39m\u001b[38;5;124msaving to csv\u001b[39m\u001b[38;5;124m'\u001b[39m)\n\u001b[0;32m     33\u001b[0m merged_df\u001b[38;5;241m.\u001b[39mto_csv(output_name, index\u001b[38;5;241m=\u001b[39m\u001b[38;5;28;01mFalse\u001b[39;00m, single_file\u001b[38;5;241m=\u001b[39m\u001b[38;5;28;01mTrue\u001b[39;00m)\n",
      "Cell \u001b[1;32mIn[5], line 17\u001b[0m, in \u001b[0;36mmerge_csv_based_on_shape\u001b[1;34m(df1, df2)\u001b[0m\n\u001b[0;32m     15\u001b[0m \u001b[38;5;28;01mdef\u001b[39;00m \u001b[38;5;21mmerge_csv_based_on_shape\u001b[39m(df1, df2):\n\u001b[0;32m     16\u001b[0m     common_columns \u001b[38;5;241m=\u001b[39m get_common_columns(df1, df2)\n\u001b[1;32m---> 17\u001b[0m     \u001b[38;5;28;01mif\u001b[39;00m \u001b[43mdf1\u001b[49m\u001b[38;5;241;43m.\u001b[39;49m\u001b[43mshape\u001b[49m\u001b[43m[\u001b[49m\u001b[38;5;241;43m0\u001b[39;49m\u001b[43m]\u001b[49m\u001b[43m \u001b[49m\u001b[38;5;241;43m>\u001b[39;49m\u001b[43m \u001b[49m\u001b[43mdf2\u001b[49m\u001b[38;5;241;43m.\u001b[39;49m\u001b[43mshape\u001b[49m\u001b[43m[\u001b[49m\u001b[38;5;241;43m0\u001b[39;49m\u001b[43m]\u001b[49m:\n\u001b[0;32m     18\u001b[0m         \u001b[38;5;28mprint\u001b[39m(\u001b[38;5;124m'\u001b[39m\u001b[38;5;124mleft join on df1\u001b[39m\u001b[38;5;124m'\u001b[39m)\n\u001b[0;32m     19\u001b[0m         merged_df \u001b[38;5;241m=\u001b[39m df1\u001b[38;5;241m.\u001b[39mmerge(df2, on\u001b[38;5;241m=\u001b[39mcommon_columns, how\u001b[38;5;241m=\u001b[39m\u001b[38;5;124m'\u001b[39m\u001b[38;5;124mleft\u001b[39m\u001b[38;5;124m'\u001b[39m)\n",
      "File \u001b[1;32m~\\.conda\\envs\\bni\\lib\\site-packages\\dask\\delayed.py:636\u001b[0m, in \u001b[0;36mDelayed.__bool__\u001b[1;34m(self)\u001b[0m\n\u001b[0;32m    635\u001b[0m \u001b[38;5;28;01mdef\u001b[39;00m \u001b[38;5;21m__bool__\u001b[39m(\u001b[38;5;28mself\u001b[39m):\n\u001b[1;32m--> 636\u001b[0m     \u001b[38;5;28;01mraise\u001b[39;00m \u001b[38;5;167;01mTypeError\u001b[39;00m(\u001b[38;5;124m\"\u001b[39m\u001b[38;5;124mTruth of Delayed objects is not supported\u001b[39m\u001b[38;5;124m\"\u001b[39m)\n",
      "\u001b[1;31mTypeError\u001b[0m: Truth of Delayed objects is not supported"
     ]
    }
   ],
   "source": [
    "%%time\n",
    "path1 = 'left_outer_merge/merged_TYFCB_Referrals_Membership_Records_Categories.csv'\n",
    "path2 = 'Dataset/Membership_PALMS.csv'\n",
    "output_name = 'left_outer_merge/merged_TYFCB_Referrals_Membership_Records_Categories_Membership_PALMS.csv'\n",
    "\n",
    "read_csv_merge_save(path1, path2, output_name)"
   ]
  },
  {
   "cell_type": "code",
   "execution_count": null,
   "id": "35dedfb6-621a-407c-8a6e-bf1f369cbd31",
   "metadata": {},
   "outputs": [],
   "source": []
  },
  {
   "cell_type": "code",
   "execution_count": null,
   "id": "64946944-757d-44c7-a7f8-915adfeea24f",
   "metadata": {},
   "outputs": [],
   "source": []
  },
  {
   "cell_type": "code",
   "execution_count": null,
   "id": "41b6a875-e8a2-4a98-9656-0cc7ed7b015b",
   "metadata": {},
   "outputs": [],
   "source": []
  },
  {
   "cell_type": "code",
   "execution_count": null,
   "id": "9482311c-015d-4c63-a72b-ceb24d203424",
   "metadata": {},
   "outputs": [],
   "source": []
  },
  {
   "cell_type": "code",
   "execution_count": 1,
   "id": "6a94e731-dc44-4d18-99a3-03c6ff4cc2f5",
   "metadata": {},
   "outputs": [
    {
     "name": "stdout",
     "output_type": "stream",
     "text": [
      "reading file from left_outer_merge/merged_TYFCB_Referrals_Membership_Records_Categories.csv\n",
      "reading file from Dataset/Membership_PALMS.csv\n",
      "merging files\n"
     ]
    },
    {
     "ename": "type",
     "evalue": "Mismatched dtypes found in `pd.read_csv`/`pd.read_table`.\n\n+---------------------+--------+----------+\n| Column              | Found  | Expected |\n+---------------------+--------+----------+\n| primary_cat_token   | object | float64  |\n| secondary_cat_name  | object | float64  |\n| secondary_cat_token | object | float64  |\n+---------------------+--------+----------+\n\nThe following columns also raised exceptions on conversion:\n\n- primary_cat_token\n  ValueError(\"could not convert string to float: 'financeandinsurance'\")\n- secondary_cat_name\n  ValueError(\"could not convert string to float: 'Finance & Insurance (Other)'\")\n- secondary_cat_token\n  ValueError(\"could not convert string to float: 'zfinanceandinstuancespecialist'\")\n\nUsually this is due to dask's dtype inference failing, and\n*may* be fixed by specifying dtypes manually by adding:\n\ndtype={'primary_cat_token': 'object',\n       'secondary_cat_name': 'object',\n       'secondary_cat_token': 'object'}\n\nto the call to `read_csv`/`read_table`.",
     "output_type": "error",
     "traceback": [
      "\u001b[1;31m---------------------------------------------------------------------------\u001b[0m",
      "\u001b[1;31mValueError\u001b[0m                                Traceback (most recent call last)",
      "Cell \u001b[1;32mIn[1], line 44\u001b[0m\n\u001b[0;32m     41\u001b[0m path2 \u001b[38;5;241m=\u001b[39m \u001b[38;5;124m'\u001b[39m\u001b[38;5;124mDataset/Membership_PALMS.csv\u001b[39m\u001b[38;5;124m'\u001b[39m\n\u001b[0;32m     42\u001b[0m output_name \u001b[38;5;241m=\u001b[39m \u001b[38;5;124m'\u001b[39m\u001b[38;5;124mleft_outer_merge/merged_TYFCB_Referrals_Membership_Records_Categories_Membership_PALMS.csv\u001b[39m\u001b[38;5;124m'\u001b[39m\n\u001b[1;32m---> 44\u001b[0m \u001b[43mread_csv_merge_save\u001b[49m\u001b[43m(\u001b[49m\u001b[43mpath1\u001b[49m\u001b[43m,\u001b[49m\u001b[43m \u001b[49m\u001b[43mpath2\u001b[49m\u001b[43m,\u001b[49m\u001b[43m \u001b[49m\u001b[43moutput_name\u001b[49m\u001b[43m)\u001b[49m\n",
      "Cell \u001b[1;32mIn[1], line 34\u001b[0m, in \u001b[0;36mread_csv_merge_save\u001b[1;34m(path1, path2, output_name)\u001b[0m\n\u001b[0;32m     32\u001b[0m df2 \u001b[38;5;241m=\u001b[39m dd\u001b[38;5;241m.\u001b[39mread_csv(path2)\n\u001b[0;32m     33\u001b[0m \u001b[38;5;28mprint\u001b[39m(\u001b[38;5;124m'\u001b[39m\u001b[38;5;124mmerging files\u001b[39m\u001b[38;5;124m'\u001b[39m)\n\u001b[1;32m---> 34\u001b[0m merged_df \u001b[38;5;241m=\u001b[39m \u001b[43mmerge_csv_based_on_shape\u001b[49m\u001b[43m(\u001b[49m\u001b[43mdf1\u001b[49m\u001b[43m,\u001b[49m\u001b[43m \u001b[49m\u001b[43mdf2\u001b[49m\u001b[43m)\u001b[49m\n\u001b[0;32m     35\u001b[0m \u001b[38;5;28mprint\u001b[39m(\u001b[38;5;124m'\u001b[39m\u001b[38;5;124msaving to csv\u001b[39m\u001b[38;5;124m'\u001b[39m)\n\u001b[0;32m     36\u001b[0m merged_df\u001b[38;5;241m.\u001b[39mto_csv(output_name, index\u001b[38;5;241m=\u001b[39m\u001b[38;5;28;01mFalse\u001b[39;00m, single_file\u001b[38;5;241m=\u001b[39m\u001b[38;5;28;01mTrue\u001b[39;00m)\n",
      "Cell \u001b[1;32mIn[1], line 17\u001b[0m, in \u001b[0;36mmerge_csv_based_on_shape\u001b[1;34m(df1, df2)\u001b[0m\n\u001b[0;32m     15\u001b[0m \u001b[38;5;28;01mdef\u001b[39;00m \u001b[38;5;21mmerge_csv_based_on_shape\u001b[39m(df1, df2):\n\u001b[0;32m     16\u001b[0m     common_columns \u001b[38;5;241m=\u001b[39m get_common_columns(df1, df2)\n\u001b[1;32m---> 17\u001b[0m     df1_shape \u001b[38;5;241m=\u001b[39m \u001b[43mdf1\u001b[49m\u001b[38;5;241;43m.\u001b[39;49m\u001b[43mshape\u001b[49m\u001b[43m[\u001b[49m\u001b[38;5;241;43m0\u001b[39;49m\u001b[43m]\u001b[49m\u001b[38;5;241;43m.\u001b[39;49m\u001b[43mcompute\u001b[49m\u001b[43m(\u001b[49m\u001b[43m)\u001b[49m  \u001b[38;5;66;03m# Compute the shape of df1\u001b[39;00m\n\u001b[0;32m     18\u001b[0m     df2_shape \u001b[38;5;241m=\u001b[39m df2\u001b[38;5;241m.\u001b[39mshape[\u001b[38;5;241m0\u001b[39m]\u001b[38;5;241m.\u001b[39mcompute()  \u001b[38;5;66;03m# Compute the shape of df2\u001b[39;00m\n\u001b[0;32m     20\u001b[0m     \u001b[38;5;28;01mif\u001b[39;00m df1_shape \u001b[38;5;241m>\u001b[39m df2_shape:\n",
      "File \u001b[1;32m~\\.conda\\envs\\bni\\lib\\site-packages\\dask\\threaded.py:89\u001b[0m, in \u001b[0;36mget\u001b[1;34m(dsk, keys, cache, num_workers, pool, **kwargs)\u001b[0m\n\u001b[0;32m     86\u001b[0m     \u001b[38;5;28;01melif\u001b[39;00m \u001b[38;5;28misinstance\u001b[39m(pool, multiprocessing\u001b[38;5;241m.\u001b[39mpool\u001b[38;5;241m.\u001b[39mPool):\n\u001b[0;32m     87\u001b[0m         pool \u001b[38;5;241m=\u001b[39m MultiprocessingPoolExecutor(pool)\n\u001b[1;32m---> 89\u001b[0m results \u001b[38;5;241m=\u001b[39m get_async(\n\u001b[0;32m     90\u001b[0m     pool\u001b[38;5;241m.\u001b[39msubmit,\n\u001b[0;32m     91\u001b[0m     pool\u001b[38;5;241m.\u001b[39m_max_workers,\n\u001b[0;32m     92\u001b[0m     dsk,\n\u001b[0;32m     93\u001b[0m     keys,\n\u001b[0;32m     94\u001b[0m     cache\u001b[38;5;241m=\u001b[39mcache,\n\u001b[0;32m     95\u001b[0m     get_id\u001b[38;5;241m=\u001b[39m_thread_get_id,\n\u001b[0;32m     96\u001b[0m     pack_exception\u001b[38;5;241m=\u001b[39mpack_exception,\n\u001b[0;32m     97\u001b[0m     \u001b[38;5;241m*\u001b[39m\u001b[38;5;241m*\u001b[39mkwargs,\n\u001b[0;32m     98\u001b[0m )\n\u001b[0;32m    100\u001b[0m \u001b[38;5;66;03m# Cleanup pools associated to dead threads\u001b[39;00m\n\u001b[0;32m    101\u001b[0m \u001b[38;5;28;01mwith\u001b[39;00m pools_lock:\n",
      "File \u001b[1;32m~\\.conda\\envs\\bni\\lib\\site-packages\\dask\\local.py:511\u001b[0m, in \u001b[0;36mget_async\u001b[1;34m(submit, num_workers, dsk, result, cache, get_id, rerun_exceptions_locally, pack_exception, raise_exception, callbacks, dumps, loads, chunksize, **kwargs)\u001b[0m\n\u001b[0;32m    509\u001b[0m         _execute_task(task, data)  \u001b[38;5;66;03m# Re-execute locally\u001b[39;00m\n\u001b[0;32m    510\u001b[0m     \u001b[38;5;28;01melse\u001b[39;00m:\n\u001b[1;32m--> 511\u001b[0m         \u001b[43mraise_exception\u001b[49m\u001b[43m(\u001b[49m\u001b[43mexc\u001b[49m\u001b[43m,\u001b[49m\u001b[43m \u001b[49m\u001b[43mtb\u001b[49m\u001b[43m)\u001b[49m\n\u001b[0;32m    512\u001b[0m res, worker_id \u001b[38;5;241m=\u001b[39m loads(res_info)\n\u001b[0;32m    513\u001b[0m state[\u001b[38;5;124m\"\u001b[39m\u001b[38;5;124mcache\u001b[39m\u001b[38;5;124m\"\u001b[39m][key] \u001b[38;5;241m=\u001b[39m res\n",
      "File \u001b[1;32m~\\.conda\\envs\\bni\\lib\\site-packages\\dask\\local.py:319\u001b[0m, in \u001b[0;36mreraise\u001b[1;34m(exc, tb)\u001b[0m\n\u001b[0;32m    317\u001b[0m \u001b[38;5;28;01mif\u001b[39;00m exc\u001b[38;5;241m.\u001b[39m__traceback__ \u001b[38;5;129;01mis\u001b[39;00m \u001b[38;5;129;01mnot\u001b[39;00m tb:\n\u001b[0;32m    318\u001b[0m     \u001b[38;5;28;01mraise\u001b[39;00m exc\u001b[38;5;241m.\u001b[39mwith_traceback(tb)\n\u001b[1;32m--> 319\u001b[0m \u001b[38;5;28;01mraise\u001b[39;00m exc\n",
      "File \u001b[1;32m~\\.conda\\envs\\bni\\lib\\site-packages\\dask\\local.py:224\u001b[0m, in \u001b[0;36mexecute_task\u001b[1;34m(key, task_info, dumps, loads, get_id, pack_exception)\u001b[0m\n\u001b[0;32m    222\u001b[0m \u001b[38;5;28;01mtry\u001b[39;00m:\n\u001b[0;32m    223\u001b[0m     task, data \u001b[38;5;241m=\u001b[39m loads(task_info)\n\u001b[1;32m--> 224\u001b[0m     result \u001b[38;5;241m=\u001b[39m \u001b[43m_execute_task\u001b[49m\u001b[43m(\u001b[49m\u001b[43mtask\u001b[49m\u001b[43m,\u001b[49m\u001b[43m \u001b[49m\u001b[43mdata\u001b[49m\u001b[43m)\u001b[49m\n\u001b[0;32m    225\u001b[0m     \u001b[38;5;28mid\u001b[39m \u001b[38;5;241m=\u001b[39m get_id()\n\u001b[0;32m    226\u001b[0m     result \u001b[38;5;241m=\u001b[39m dumps((result, \u001b[38;5;28mid\u001b[39m))\n",
      "File \u001b[1;32m~\\.conda\\envs\\bni\\lib\\site-packages\\dask\\dataframe\\io\\csv.py:142\u001b[0m, in \u001b[0;36mCSVFunctionWrapper.__call__\u001b[1;34m(self, part)\u001b[0m\n\u001b[0;32m    139\u001b[0m         rest_kwargs[\u001b[38;5;124m\"\u001b[39m\u001b[38;5;124musecols\u001b[39m\u001b[38;5;124m\"\u001b[39m] \u001b[38;5;241m=\u001b[39m columns\n\u001b[0;32m    141\u001b[0m \u001b[38;5;66;03m# Call `pandas_read_text`\u001b[39;00m\n\u001b[1;32m--> 142\u001b[0m df \u001b[38;5;241m=\u001b[39m \u001b[43mpandas_read_text\u001b[49m\u001b[43m(\u001b[49m\n\u001b[0;32m    143\u001b[0m \u001b[43m    \u001b[49m\u001b[38;5;28;43mself\u001b[39;49m\u001b[38;5;241;43m.\u001b[39;49m\u001b[43mreader\u001b[49m\u001b[43m,\u001b[49m\n\u001b[0;32m    144\u001b[0m \u001b[43m    \u001b[49m\u001b[43mblock\u001b[49m\u001b[43m,\u001b[49m\n\u001b[0;32m    145\u001b[0m \u001b[43m    \u001b[49m\u001b[38;5;28;43mself\u001b[39;49m\u001b[38;5;241;43m.\u001b[39;49m\u001b[43mheader\u001b[49m\u001b[43m,\u001b[49m\n\u001b[0;32m    146\u001b[0m \u001b[43m    \u001b[49m\u001b[43mrest_kwargs\u001b[49m\u001b[43m,\u001b[49m\n\u001b[0;32m    147\u001b[0m \u001b[43m    \u001b[49m\u001b[38;5;28;43mself\u001b[39;49m\u001b[38;5;241;43m.\u001b[39;49m\u001b[43mdtypes\u001b[49m\u001b[43m,\u001b[49m\n\u001b[0;32m    148\u001b[0m \u001b[43m    \u001b[49m\u001b[43mcolumns\u001b[49m\u001b[43m,\u001b[49m\n\u001b[0;32m    149\u001b[0m \u001b[43m    \u001b[49m\u001b[43mwrite_header\u001b[49m\u001b[43m,\u001b[49m\n\u001b[0;32m    150\u001b[0m \u001b[43m    \u001b[49m\u001b[38;5;28;43mself\u001b[39;49m\u001b[38;5;241;43m.\u001b[39;49m\u001b[43menforce\u001b[49m\u001b[43m,\u001b[49m\n\u001b[0;32m    151\u001b[0m \u001b[43m    \u001b[49m\u001b[43mpath_info\u001b[49m\u001b[43m,\u001b[49m\n\u001b[0;32m    152\u001b[0m \u001b[43m\u001b[49m\u001b[43m)\u001b[49m\n\u001b[0;32m    153\u001b[0m \u001b[38;5;28;01mif\u001b[39;00m project_after_read:\n\u001b[0;32m    154\u001b[0m     \u001b[38;5;28;01mreturn\u001b[39;00m df[\u001b[38;5;28mself\u001b[39m\u001b[38;5;241m.\u001b[39mcolumns]\n",
      "File \u001b[1;32m~\\.conda\\envs\\bni\\lib\\site-packages\\dask\\dataframe\\io\\csv.py:197\u001b[0m, in \u001b[0;36mpandas_read_text\u001b[1;34m(reader, b, header, kwargs, dtypes, columns, write_header, enforce, path)\u001b[0m\n\u001b[0;32m    195\u001b[0m df \u001b[38;5;241m=\u001b[39m reader(bio, \u001b[38;5;241m*\u001b[39m\u001b[38;5;241m*\u001b[39mkwargs)\n\u001b[0;32m    196\u001b[0m \u001b[38;5;28;01mif\u001b[39;00m dtypes:\n\u001b[1;32m--> 197\u001b[0m     \u001b[43mcoerce_dtypes\u001b[49m\u001b[43m(\u001b[49m\u001b[43mdf\u001b[49m\u001b[43m,\u001b[49m\u001b[43m \u001b[49m\u001b[43mdtypes\u001b[49m\u001b[43m)\u001b[49m\n\u001b[0;32m    199\u001b[0m \u001b[38;5;28;01mif\u001b[39;00m enforce \u001b[38;5;129;01mand\u001b[39;00m columns \u001b[38;5;129;01mand\u001b[39;00m (\u001b[38;5;28mlist\u001b[39m(df\u001b[38;5;241m.\u001b[39mcolumns) \u001b[38;5;241m!=\u001b[39m \u001b[38;5;28mlist\u001b[39m(columns)):\n\u001b[0;32m    200\u001b[0m     \u001b[38;5;28;01mraise\u001b[39;00m \u001b[38;5;167;01mValueError\u001b[39;00m(\u001b[38;5;124m\"\u001b[39m\u001b[38;5;124mColumns do not match\u001b[39m\u001b[38;5;124m\"\u001b[39m, df\u001b[38;5;241m.\u001b[39mcolumns, columns)\n",
      "File \u001b[1;32m~\\.conda\\envs\\bni\\lib\\site-packages\\dask\\dataframe\\io\\csv.py:298\u001b[0m, in \u001b[0;36mcoerce_dtypes\u001b[1;34m(df, dtypes)\u001b[0m\n\u001b[0;32m    294\u001b[0m rule \u001b[38;5;241m=\u001b[39m \u001b[38;5;124m\"\u001b[39m\u001b[38;5;130;01m\\n\u001b[39;00m\u001b[38;5;130;01m\\n\u001b[39;00m\u001b[38;5;132;01m%s\u001b[39;00m\u001b[38;5;130;01m\\n\u001b[39;00m\u001b[38;5;130;01m\\n\u001b[39;00m\u001b[38;5;124m\"\u001b[39m \u001b[38;5;241m%\u001b[39m (\u001b[38;5;124m\"\u001b[39m\u001b[38;5;124m-\u001b[39m\u001b[38;5;124m\"\u001b[39m \u001b[38;5;241m*\u001b[39m \u001b[38;5;241m61\u001b[39m)\n\u001b[0;32m    295\u001b[0m msg \u001b[38;5;241m=\u001b[39m \u001b[38;5;124m\"\u001b[39m\u001b[38;5;124mMismatched dtypes found in `pd.read_csv`/`pd.read_table`.\u001b[39m\u001b[38;5;130;01m\\n\u001b[39;00m\u001b[38;5;130;01m\\n\u001b[39;00m\u001b[38;5;132;01m%s\u001b[39;00m\u001b[38;5;124m\"\u001b[39m \u001b[38;5;241m%\u001b[39m (\n\u001b[0;32m    296\u001b[0m     rule\u001b[38;5;241m.\u001b[39mjoin(\u001b[38;5;28mfilter\u001b[39m(\u001b[38;5;28;01mNone\u001b[39;00m, [dtype_msg, date_msg]))\n\u001b[0;32m    297\u001b[0m )\n\u001b[1;32m--> 298\u001b[0m \u001b[38;5;28;01mraise\u001b[39;00m \u001b[38;5;167;01mValueError\u001b[39;00m(msg)\n",
      "\u001b[1;31mValueError\u001b[0m: Mismatched dtypes found in `pd.read_csv`/`pd.read_table`.\n\n+---------------------+--------+----------+\n| Column              | Found  | Expected |\n+---------------------+--------+----------+\n| primary_cat_token   | object | float64  |\n| secondary_cat_name  | object | float64  |\n| secondary_cat_token | object | float64  |\n+---------------------+--------+----------+\n\nThe following columns also raised exceptions on conversion:\n\n- primary_cat_token\n  ValueError(\"could not convert string to float: 'financeandinsurance'\")\n- secondary_cat_name\n  ValueError(\"could not convert string to float: 'Finance & Insurance (Other)'\")\n- secondary_cat_token\n  ValueError(\"could not convert string to float: 'zfinanceandinstuancespecialist'\")\n\nUsually this is due to dask's dtype inference failing, and\n*may* be fixed by specifying dtypes manually by adding:\n\ndtype={'primary_cat_token': 'object',\n       'secondary_cat_name': 'object',\n       'secondary_cat_token': 'object'}\n\nto the call to `read_csv`/`read_table`."
     ]
    }
   ],
   "source": [
    "import dask.dataframe as dd\n",
    "import pandas as pd\n",
    "import os\n",
    "\n",
    "def get_common_columns(df1, df2):\n",
    "    common_columns = set(df1.columns).intersection(df2.columns)\n",
    "    return list(common_columns)\n",
    "\n",
    "def get_non_common_columns(df1, df2):\n",
    "    columns_df1 = set(df1.columns)\n",
    "    columns_df2 = set(df2.columns)\n",
    "    non_common_columns = columns_df1.symmetric_difference(columns_df2)\n",
    "    return list(non_common_columns)\n",
    "\n",
    "def merge_csv_based_on_shape(df1, df2):\n",
    "    common_columns = get_common_columns(df1, df2)\n",
    "    df1_shape = df1.shape[0].compute()  # Compute the shape of df1\n",
    "    df2_shape = df2.shape[0].compute()  # Compute the shape of df2\n",
    "\n",
    "    if df1_shape > df2_shape:\n",
    "        print('left join on df1')\n",
    "        merged_df = df1.merge(df2, on=common_columns, how='left')\n",
    "    else:\n",
    "        print('left join on df2')\n",
    "        merged_df = df2.merge(df1, on=common_columns, how='left')\n",
    "    return merged_df\n",
    "\n",
    "def read_csv_merge_save(path1, path2, output_name):\n",
    "    print('reading file from', path1)\n",
    "    df1 = dd.read_csv(path1)\n",
    "    print('reading file from', path2)\n",
    "    df2 = dd.read_csv(path2)\n",
    "    print('merging files')\n",
    "    merged_df = merge_csv_based_on_shape(df1, df2)\n",
    "    print('saving to csv')\n",
    "    merged_df.to_csv(output_name, index=False, single_file=True)\n",
    "    print('Saved!!')\n",
    "    return output_name\n",
    "\n",
    "path1 = 'left_outer_merge/merged_TYFCB_Referrals_Membership_Records_Categories.csv'\n",
    "path2 = 'Dataset/Membership_PALMS.csv'\n",
    "output_name = 'left_outer_merge/merged_TYFCB_Referrals_Membership_Records_Categories_Membership_PALMS.csv'\n",
    "\n",
    "read_csv_merge_save(path1, path2, output_name)\n"
   ]
  }
 ],
 "metadata": {
  "kernelspec": {
   "display_name": "bni",
   "language": "python",
   "name": "bni"
  },
  "language_info": {
   "codemirror_mode": {
    "name": "ipython",
    "version": 3
   },
   "file_extension": ".py",
   "mimetype": "text/x-python",
   "name": "python",
   "nbconvert_exporter": "python",
   "pygments_lexer": "ipython3",
   "version": "3.9.16"
  }
 },
 "nbformat": 4,
 "nbformat_minor": 5
}
