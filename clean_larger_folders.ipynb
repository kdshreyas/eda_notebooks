{
 "cells": [
  {
   "cell_type": "code",
   "execution_count": 1,
   "id": "5e125853-d21c-4954-942d-5454c0209061",
   "metadata": {},
   "outputs": [
    {
     "name": "stdout",
     "output_type": "stream",
     "text": [
      "Hi\n"
     ]
    }
   ],
   "source": [
    "print('Hi')"
   ]
  },
  {
   "cell_type": "code",
   "execution_count": null,
   "id": "1f2eacb6-67e0-4587-8e15-c8571d3db2bb",
   "metadata": {},
   "outputs": [],
   "source": [
    "import os\n",
    "import sys\n",
    "\n",
    "def get_folder_size(folder_path):\n",
    "    total_size = 0\n",
    "    for dirpath, dirnames, filenames in os.walk(folder_path):\n",
    "        for f in filenames:\n",
    "            fp = os.path.join(dirpath, f)\n",
    "            total_size += os.path.getsize(fp)\n",
    "    return total_size\n",
    "\n",
    "def format_size(size):\n",
    "    # Define the suffixes and their corresponding conversion factor\n",
    "    suffixes = ['B', 'KB', 'MB', 'GB', 'TB']\n",
    "    base = 1024\n",
    "    # Find the appropriate conversion factor\n",
    "    for suffix in suffixes:\n",
    "        if size < base:\n",
    "            return f\"{size:.2f} {suffix}\"\n",
    "        size /= base\n",
    "\n",
    "def get_folder_sizes(parent_folder):\n",
    "    folders = next(os.walk(parent_folder))[1]\n",
    "    folder_sizes = {}\n",
    "    for folder in folders:\n",
    "        folder_path = os.path.join(parent_folder, folder)\n",
    "        try:\n",
    "            size = get_folder_size(folder_path)\n",
    "        except FileNotFoundError:\n",
    "            size = 0\n",
    "        folder_sizes[folder] = size\n",
    "    return folder_sizes\n",
    "\n",
    "# Usage example\n",
    "parent_folder = r'D:\\\\'\n",
    "sizes = get_folder_sizes(parent_folder)\n",
    "\n",
    "# Sort the folder sizes in descending order\n",
    "sorted_sizes = sorted(sizes.items(), key=lambda x: x[1], reverse=True)\n",
    "\n",
    "# Print the top 5 folders\n",
    "for folder, size in sorted_sizes[:5]:\n",
    "    formatted_size = format_size(size)\n",
    "    print(f\"{folder}: {formatted_size}\")\n"
   ]
  }
 ],
 "metadata": {
  "kernelspec": {
   "display_name": "Python [conda env:policy_r]",
   "language": "python",
   "name": "conda-env-policy_r-py"
  },
  "language_info": {
   "codemirror_mode": {
    "name": "ipython",
    "version": 3
   },
   "file_extension": ".py",
   "mimetype": "text/x-python",
   "name": "python",
   "nbconvert_exporter": "python",
   "pygments_lexer": "ipython3",
   "version": "3.9.13"
  }
 },
 "nbformat": 4,
 "nbformat_minor": 5
}
